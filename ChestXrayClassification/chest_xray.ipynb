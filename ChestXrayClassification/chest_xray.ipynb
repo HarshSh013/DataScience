{
 "cells": [
  {
   "cell_type": "code",
   "execution_count": 1,
   "metadata": {},
   "outputs": [],
   "source": [
    "import warnings\n",
    "warnings.filterwarnings('ignore')"
   ]
  },
  {
   "cell_type": "code",
   "execution_count": 2,
   "metadata": {},
   "outputs": [],
   "source": [
    "from tensorflow import keras"
   ]
  },
  {
   "cell_type": "code",
   "execution_count": 3,
   "metadata": {},
   "outputs": [],
   "source": [
    "from keras.layers import Input, Lambda, Dense, Flatten"
   ]
  },
  {
   "cell_type": "code",
   "execution_count": 4,
   "metadata": {},
   "outputs": [],
   "source": [
    "from keras.models import Model\n",
    "from keras.applications.vgg16 import VGG16\n",
    "from keras.applications.vgg16 import preprocess_input\n",
    "from keras.preprocessing import image\n",
    "from keras.preprocessing.image import ImageDataGenerator\n",
    "from keras.models import Sequential\n",
    "import numpy as np\n",
    "from glob import glob\n",
    "import matplotlib.pyplot as plt"
   ]
  },
  {
   "cell_type": "code",
   "execution_count": 5,
   "metadata": {},
   "outputs": [],
   "source": [
    "IMAGE_SIZE = [224, 224]\n",
    "\n",
    "\n",
    "train_path = 'Datasets/train'\n",
    "valid_path = 'Datasets/test'"
   ]
  },
  {
   "cell_type": "code",
   "execution_count": 6,
   "metadata": {},
   "outputs": [],
   "source": [
    "vgg = VGG16(input_shape=IMAGE_SIZE + [3], weights='imagenet', include_top=False)"
   ]
  },
  {
   "cell_type": "code",
   "execution_count": 7,
   "metadata": {},
   "outputs": [],
   "source": [
    "for layer in vgg.layers:\n",
    "    layer.trainable = False"
   ]
  },
  {
   "cell_type": "code",
   "execution_count": 8,
   "metadata": {},
   "outputs": [],
   "source": [
    "folders = glob('Datasets/train/*')\n",
    "x = Flatten()(vgg.output)"
   ]
  },
  {
   "cell_type": "code",
   "execution_count": 9,
   "metadata": {},
   "outputs": [
    {
     "name": "stdout",
     "output_type": "stream",
     "text": [
      "Model: \"model\"\n",
      "_________________________________________________________________\n",
      " Layer (type)                Output Shape              Param #   \n",
      "=================================================================\n",
      " input_1 (InputLayer)        [(None, 224, 224, 3)]     0         \n",
      "                                                                 \n",
      " block1_conv1 (Conv2D)       (None, 224, 224, 64)      1792      \n",
      "                                                                 \n",
      " block1_conv2 (Conv2D)       (None, 224, 224, 64)      36928     \n",
      "                                                                 \n",
      " block1_pool (MaxPooling2D)  (None, 112, 112, 64)      0         \n",
      "                                                                 \n",
      " block2_conv1 (Conv2D)       (None, 112, 112, 128)     73856     \n",
      "                                                                 \n",
      " block2_conv2 (Conv2D)       (None, 112, 112, 128)     147584    \n",
      "                                                                 \n",
      " block2_pool (MaxPooling2D)  (None, 56, 56, 128)       0         \n",
      "                                                                 \n",
      " block3_conv1 (Conv2D)       (None, 56, 56, 256)       295168    \n",
      "                                                                 \n",
      " block3_conv2 (Conv2D)       (None, 56, 56, 256)       590080    \n",
      "                                                                 \n",
      " block3_conv3 (Conv2D)       (None, 56, 56, 256)       590080    \n",
      "                                                                 \n",
      " block3_pool (MaxPooling2D)  (None, 28, 28, 256)       0         \n",
      "                                                                 \n",
      " block4_conv1 (Conv2D)       (None, 28, 28, 512)       1180160   \n",
      "                                                                 \n",
      " block4_conv2 (Conv2D)       (None, 28, 28, 512)       2359808   \n",
      "                                                                 \n",
      " block4_conv3 (Conv2D)       (None, 28, 28, 512)       2359808   \n",
      "                                                                 \n",
      " block4_pool (MaxPooling2D)  (None, 14, 14, 512)       0         \n",
      "                                                                 \n",
      " block5_conv1 (Conv2D)       (None, 14, 14, 512)       2359808   \n",
      "                                                                 \n",
      " block5_conv2 (Conv2D)       (None, 14, 14, 512)       2359808   \n",
      "                                                                 \n",
      " block5_conv3 (Conv2D)       (None, 14, 14, 512)       2359808   \n",
      "                                                                 \n",
      " block5_pool (MaxPooling2D)  (None, 7, 7, 512)         0         \n",
      "                                                                 \n",
      " flatten (Flatten)           (None, 25088)             0         \n",
      "                                                                 \n",
      " dense (Dense)               (None, 2)                 50178     \n",
      "                                                                 \n",
      "=================================================================\n",
      "Total params: 14,764,866\n",
      "Trainable params: 50,178\n",
      "Non-trainable params: 14,714,688\n",
      "_________________________________________________________________\n"
     ]
    }
   ],
   "source": [
    "prediction = Dense(len(folders), activation='softmax')(x)\n",
    "# create a model object\n",
    "model = Model(inputs=vgg.input, outputs=prediction)\n",
    "# view the structure of the model\n",
    "model.summary()"
   ]
  },
  {
   "cell_type": "code",
   "execution_count": 10,
   "metadata": {},
   "outputs": [],
   "source": [
    "model.compile(\n",
    "  loss='categorical_crossentropy',\n",
    "  optimizer='adam',\n",
    "  metrics=['accuracy']\n",
    ")"
   ]
  },
  {
   "cell_type": "code",
   "execution_count": 11,
   "metadata": {},
   "outputs": [],
   "source": [
    "from keras.preprocessing.image import ImageDataGenerator"
   ]
  },
  {
   "cell_type": "code",
   "execution_count": 13,
   "metadata": {},
   "outputs": [
    {
     "name": "stdout",
     "output_type": "stream",
     "text": [
      "Found 5216 images belonging to 2 classes.\n",
      "Found 624 images belonging to 2 classes.\n"
     ]
    }
   ],
   "source": [
    "train_datagen = ImageDataGenerator(rescale = 1./255,\n",
    "                                   shear_range = 0.2,\n",
    "                                   zoom_range = 0.2,\n",
    "                                   horizontal_flip = True)\n",
    "\n",
    "test_datagen = ImageDataGenerator(rescale = 1./255)\n",
    "\n",
    "\n",
    "\n",
    "\n",
    "# Make sure you provide the same target size as initialied for the image size\n",
    "training_set = train_datagen.flow_from_directory('Datasets/train',\n",
    "                                                 target_size = (224, 224),\n",
    "                                                 batch_size = 50,\n",
    "                                                 class_mode = 'categorical')\n",
    "\n",
    "\n",
    "\n",
    "\n",
    "test_set = test_datagen.flow_from_directory('Datasets/test',\n",
    "                                            target_size = (224, 224),\n",
    "                                            batch_size = 50,\n",
    "                                            class_mode = 'categorical')\n",
    "\n",
    "\n"
   ]
  },
  {
   "cell_type": "code",
   "execution_count": 14,
   "metadata": {},
   "outputs": [
    {
     "name": "stdout",
     "output_type": "stream",
     "text": [
      "Epoch 1/20\n",
      "105/105 [==============================] - 301s 3s/step - loss: 0.2686 - accuracy: 0.8936 - val_loss: 0.2677 - val_accuracy: 0.9022\n",
      "Epoch 2/20\n",
      "105/105 [==============================] - 292s 3s/step - loss: 0.1152 - accuracy: 0.9567 - val_loss: 0.3215 - val_accuracy: 0.8942\n",
      "Epoch 3/20\n",
      "105/105 [==============================] - 291s 3s/step - loss: 0.0883 - accuracy: 0.9678 - val_loss: 0.2906 - val_accuracy: 0.9022\n",
      "Epoch 4/20\n",
      "105/105 [==============================] - 291s 3s/step - loss: 0.0840 - accuracy: 0.9695 - val_loss: 0.2926 - val_accuracy: 0.9103\n",
      "Epoch 5/20\n",
      "105/105 [==============================] - 290s 3s/step - loss: 0.0841 - accuracy: 0.9711 - val_loss: 0.3725 - val_accuracy: 0.8910\n",
      "Epoch 6/20\n",
      "105/105 [==============================] - 291s 3s/step - loss: 0.0768 - accuracy: 0.9712 - val_loss: 0.3314 - val_accuracy: 0.9038\n",
      "Epoch 7/20\n",
      "105/105 [==============================] - 294s 3s/step - loss: 0.0790 - accuracy: 0.9705 - val_loss: 0.4844 - val_accuracy: 0.8702\n",
      "Epoch 8/20\n",
      "105/105 [==============================] - 291s 3s/step - loss: 0.0648 - accuracy: 0.9770 - val_loss: 0.3784 - val_accuracy: 0.8958\n",
      "Epoch 9/20\n",
      "105/105 [==============================] - 293s 3s/step - loss: 0.0640 - accuracy: 0.9783 - val_loss: 0.2342 - val_accuracy: 0.9247\n",
      "Epoch 10/20\n",
      "105/105 [==============================] - 290s 3s/step - loss: 0.0526 - accuracy: 0.9808 - val_loss: 0.2550 - val_accuracy: 0.9279\n",
      "Epoch 11/20\n",
      "105/105 [==============================] - 289s 3s/step - loss: 0.0644 - accuracy: 0.9739 - val_loss: 0.3329 - val_accuracy: 0.9135\n",
      "Epoch 12/20\n",
      "105/105 [==============================] - 292s 3s/step - loss: 0.0548 - accuracy: 0.9791 - val_loss: 0.2903 - val_accuracy: 0.9199\n",
      "Epoch 13/20\n",
      "105/105 [==============================] - 290s 3s/step - loss: 0.0562 - accuracy: 0.9803 - val_loss: 0.3658 - val_accuracy: 0.8990\n",
      "Epoch 14/20\n",
      "105/105 [==============================] - 291s 3s/step - loss: 0.0437 - accuracy: 0.9850 - val_loss: 0.4434 - val_accuracy: 0.8830\n",
      "Epoch 15/20\n",
      "105/105 [==============================] - 295s 3s/step - loss: 0.0506 - accuracy: 0.9822 - val_loss: 0.4395 - val_accuracy: 0.8862\n",
      "Epoch 16/20\n",
      "105/105 [==============================] - 292s 3s/step - loss: 0.0454 - accuracy: 0.9829 - val_loss: 0.3406 - val_accuracy: 0.9071\n",
      "Epoch 17/20\n",
      "105/105 [==============================] - 292s 3s/step - loss: 0.0692 - accuracy: 0.9732 - val_loss: 0.3241 - val_accuracy: 0.8926\n",
      "Epoch 18/20\n",
      "105/105 [==============================] - 293s 3s/step - loss: 0.0463 - accuracy: 0.9837 - val_loss: 0.2752 - val_accuracy: 0.9135\n",
      "Epoch 19/20\n",
      "105/105 [==============================] - 295s 3s/step - loss: 0.0377 - accuracy: 0.9864 - val_loss: 0.5529 - val_accuracy: 0.8750\n",
      "Epoch 20/20\n",
      "105/105 [==============================] - 291s 3s/step - loss: 0.0468 - accuracy: 0.9801 - val_loss: 0.3834 - val_accuracy: 0.8974\n"
     ]
    }
   ],
   "source": [
    "r = model.fit_generator(\n",
    "  training_set,\n",
    "  validation_data=test_set,\n",
    "  epochs=20,\n",
    "  steps_per_epoch=len(training_set),\n",
    "  validation_steps=len(test_set)\n",
    ")\n",
    "\n"
   ]
  },
  {
   "cell_type": "code",
   "execution_count": 15,
   "metadata": {},
   "outputs": [],
   "source": [
    "import tensorflow as tf\n",
    "from keras.models import load_model\n",
    "\n",
    "model.save('chest_xray.h5')"
   ]
  },
  {
   "cell_type": "code",
   "execution_count": null,
   "metadata": {},
   "outputs": [],
   "source": []
  }
 ],
 "metadata": {
  "kernelspec": {
   "display_name": "Python 3 (ipykernel)",
   "language": "python",
   "name": "python3"
  },
  "language_info": {
   "codemirror_mode": {
    "name": "ipython",
    "version": 3
   },
   "file_extension": ".py",
   "mimetype": "text/x-python",
   "name": "python",
   "nbconvert_exporter": "python",
   "pygments_lexer": "ipython3",
   "version": "3.9.13"
  }
 },
 "nbformat": 4,
 "nbformat_minor": 4
}
