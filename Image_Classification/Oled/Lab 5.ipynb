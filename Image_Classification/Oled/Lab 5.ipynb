{
 "cells": [
  {
   "cell_type": "markdown",
   "source": [
    "Task"
   ],
   "metadata": {
    "collapsed": false
   }
  },
  {
   "cell_type": "markdown",
   "source": [
    "For this task, you need to analyze the image-processing kernels for an industrial application (Organic\n",
    "Light Emitting Diode (OLED)) Printing. The left side of the figure below shows an OLED sheet. After\n",
    "zooming into the details, we can find a couple of repetitive structures (OLEDs) that are aligned side by\n",
    "side. During fabrication, organic materials are injected into these OLED “bowls”. In order to improve the\n",
    "quality and yield, accuracy of the detection center of each OLED and the processing time are very\n",
    "important.\n",
    "\n",
    "A vision pipeline to accurately localize the OLED centers is to be developed, using traditional image\n",
    "processing and filtering/morphological operations. Also, create bounding boxes around the OLEDs\n",
    "(shown below) and provide the total counts of the detected centers.\n",
    "\n"
   ],
   "metadata": {
    "collapsed": false
   }
  },
  {
   "cell_type": "code",
   "execution_count": 2,
   "outputs": [
    {
     "name": "stdout",
     "output_type": "stream",
     "text": [
      "Total OLED Centers Detected: 415\n"
     ]
    }
   ],
   "source": [
    "import cv2\n",
    "import numpy as np\n",
    "\n",
    "image = cv2.imread('s1.pgm')\n",
    "\n",
    "gray = cv2.cvtColor(image, cv2.COLOR_BGR2GRAY)\n",
    "\n",
    "edges = cv2.Canny(gray, 50, 150)\n",
    "\n",
    "contours, _ = cv2.findContours(edges, cv2.RETR_EXTERNAL, cv2.CHAIN_APPROX_SIMPLE)\n",
    "\n",
    "center_coordinates = []\n",
    "\n",
    "for contour in contours:\n",
    "    area = cv2.contourArea(contour)\n",
    "\n",
    "    if area > 100:\n",
    "        M = cv2.moments(contour)\n",
    "        if M[\"m00\"] != 0:\n",
    "            cX = int(M[\"m10\"] / M[\"m00\"])\n",
    "            cY = int(M[\"m01\"] / M[\"m00\"])\n",
    "\n",
    "            center_coordinates.append((cX, cY))\n",
    "\n",
    "oled_count = len(center_coordinates)\n",
    "\n",
    "output_image = image.copy()\n",
    "for center in center_coordinates:\n",
    "    cv2.circle(output_image, center, 1, (0, 0, 255), -1)  # Draw a red filled circle at each center\n",
    "\n",
    "cv2.imshow('OLED Detection', output_image)\n",
    "cv2.waitKey(0)\n",
    "cv2.destroyAllWindows()\n",
    "\n",
    "print(f\"Total OLED Centers Detected: {oled_count}\")"
   ],
   "metadata": {
    "collapsed": false,
    "ExecuteTime": {
     "end_time": "2023-11-30T05:49:25.231360100Z",
     "start_time": "2023-11-30T05:42:53.960787100Z"
    }
   }
  },
  {
   "cell_type": "code",
   "execution_count": null,
   "outputs": [],
   "source": [],
   "metadata": {
    "collapsed": false
   }
  }
 ],
 "metadata": {
  "kernelspec": {
   "display_name": "Python 3",
   "language": "python",
   "name": "python3"
  },
  "language_info": {
   "codemirror_mode": {
    "name": "ipython",
    "version": 2
   },
   "file_extension": ".py",
   "mimetype": "text/x-python",
   "name": "python",
   "nbconvert_exporter": "python",
   "pygments_lexer": "ipython2",
   "version": "2.7.6"
  }
 },
 "nbformat": 4,
 "nbformat_minor": 0
}
