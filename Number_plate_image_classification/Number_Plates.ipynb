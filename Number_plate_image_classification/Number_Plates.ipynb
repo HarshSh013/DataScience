{
 "cells": [
  {
   "cell_type": "code",
   "execution_count": 5,
   "outputs": [],
   "source": [
    "import cv2\n",
    "import numpy as np\n",
    "\n",
    "# Load the image\n",
    "image_path = 'Indian_Number_Plates/Sample_Images/Datacluster_number_plates (4).jpg'\n",
    "image = cv2.imread(image_path)\n",
    "\n",
    "# Calculate the correct window size based on the image's aspect ratio\n",
    "image_height, image_width, _ = image.shape\n",
    "screen_height = 1080  # Replace with your screen height\n",
    "screen_width = 1920  # Replace with your screen width\n",
    "\n",
    "# Calculate the scaling factor to fit the image within the screen dimensions\n",
    "scaling_factor = min(screen_width / image_width, screen_height / image_height)\n",
    "\n",
    "# Resize the image to fit within the correct window size\n",
    "scaled_width = int(image_width * scaling_factor)\n",
    "scaled_height = int(image_height * scaling_factor)\n",
    "image = cv2.resize(image, (scaled_width, scaled_height))\n",
    "cv2.imshow('License Plate Segmentation - Grayscale', image)\n",
    "cv2.waitKey(0)\n",
    "# Convert the image to grayscale\n",
    "gray_image = cv2.cvtColor(image, cv2.COLOR_BGR2GRAY)\n",
    "\n",
    "# Display the grayscale image\n",
    "cv2.imshow('License Plate Segmentation - Grayscale', gray_image)\n",
    "cv2.waitKey(0)\n",
    "\n",
    "# Apply Gaussian Blur\n",
    "blurred_image = cv2.GaussianBlur(gray_image, (5, 5), 0)\n",
    "\n",
    "# Display the blurred image\n",
    "cv2.imshow('License Plate Segmentation - Blurred', blurred_image)\n",
    "cv2.waitKey(0)\n",
    "\n",
    "# Apply Canny edge detection\n",
    "edges = cv2.Canny(blurred_image, 100, 200)\n",
    "\n",
    "# Display the edge-detected image\n",
    "cv2.imshow('License Plate Segmentation - Edges', edges)\n",
    "cv2.waitKey(0)\n",
    "\n",
    "\n",
    "ret, thresh = cv2.threshold(edges, 127, 255, 0)\n",
    "contours, hierarchy = cv2.findContours(thresh, cv2.RETR_TREE, cv2.CHAIN_APPROX_SIMPLE)\n",
    "cv2.drawContours(image, contours, -1, (0, 255, 0), 2)  # You can adjust the color and thickness\n",
    "cv2.imshow('Image with Contours', image)\n",
    "\n",
    "cv2.waitKey(0)\n",
    "cv2.destroyAllWindows()"
   ],
   "metadata": {
    "collapsed": false,
    "ExecuteTime": {
     "end_time": "2023-11-30T05:49:52.175906200Z",
     "start_time": "2023-11-30T05:49:39.316921600Z"
    }
   }
  },
  {
   "cell_type": "code",
   "execution_count": 2,
   "outputs": [
    {
     "name": "stdout",
     "output_type": "stream",
     "text": [
      "Number of contours: 259\n"
     ]
    }
   ],
   "source": [
    "print(\"Number of contours:\", len(contours))"
   ],
   "metadata": {
    "collapsed": false,
    "ExecuteTime": {
     "end_time": "2023-11-30T05:45:35.331889500Z",
     "start_time": "2023-11-30T05:45:35.271053Z"
    }
   }
  },
  {
   "cell_type": "code",
   "execution_count": 7,
   "outputs": [],
   "source": [
    "import cv2\n",
    "\n",
    "# Load the image\n",
    "image_path = 'Indian_Number_Plates/Sample_Images/Datacluster_number_plates (1).jpg'\n",
    "image = cv2.imread(image_path)\n",
    "\n",
    "# Extract the bounding box coordinates from the annotation\n",
    "xmin = 382.75\n",
    "ymin = 1106.9\n",
    "xmax = 1147.75\n",
    "ymax = 1718.95\n",
    "\n",
    "# Crop the region of interest (ROI) containing the number plate\n",
    "roi = image[int(ymin):int(ymax), int(xmin):int(xmax)]\n",
    "\n",
    "# Convert the cropped region to grayscale\n",
    "gray_roi = cv2.cvtColor(roi, cv2.COLOR_BGR2GRAY)\n",
    "\n",
    "# Apply Gaussian Blur to reduce noise\n",
    "blurred_roi = cv2.GaussianBlur(gray_roi, (5, 5), 0)\n",
    "\n",
    "# Apply Canny edge detection\n",
    "edges_roi = cv2.Canny(blurred_roi, 100, 200)\n",
    "\n",
    "# Find contours in the edge-detected ROI\n",
    "contours_roi, _ = cv2.findContours(edges_roi, cv2.RETR_EXTERNAL, cv2.CHAIN_APPROX_SIMPLE)\n",
    "\n",
    "# Draw the contours on the cropped number plate region\n",
    "cv2.drawContours(roi, contours_roi, -1, (0, 255, 0), 2)\n",
    "\n",
    "# Display the cropped region with contours\n",
    "cv2.imshow('Number Plate with Contours', roi)\n",
    "cv2.waitKey(0)\n",
    "cv2.destroyAllWindows()\n"
   ],
   "metadata": {
    "collapsed": false,
    "ExecuteTime": {
     "end_time": "2023-11-30T05:50:27.358181400Z",
     "start_time": "2023-11-30T05:50:23.773689100Z"
    }
   }
  },
  {
   "cell_type": "code",
   "execution_count": null,
   "outputs": [],
   "source": [],
   "metadata": {
    "collapsed": false
   }
  }
 ],
 "metadata": {
  "kernelspec": {
   "display_name": "Python 3",
   "language": "python",
   "name": "python3"
  },
  "language_info": {
   "codemirror_mode": {
    "name": "ipython",
    "version": 2
   },
   "file_extension": ".py",
   "mimetype": "text/x-python",
   "name": "python",
   "nbconvert_exporter": "python",
   "pygments_lexer": "ipython2",
   "version": "2.7.6"
  }
 },
 "nbformat": 4,
 "nbformat_minor": 0
}
